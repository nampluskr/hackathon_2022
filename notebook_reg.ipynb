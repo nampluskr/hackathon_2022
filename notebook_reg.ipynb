{
 "cells": [
  {
   "cell_type": "code",
   "execution_count": 1,
   "metadata": {},
   "outputs": [
    {
     "data": {
      "text/html": [
       "<style type=\"text/css\">\n",
       "#T_8a45b_row10_col0, #T_8a45b_row10_col1, #T_8a45b_row10_col2, #T_8a45b_row10_col3, #T_8a45b_row10_col4, #T_8a45b_row10_col5 {\n",
       "  background: yellow;\n",
       "}\n",
       "</style>\n",
       "<table id=\"T_8a45b\">\n",
       "  <thead>\n",
       "    <tr>\n",
       "      <th class=\"blank level0\" >&nbsp;</th>\n",
       "      <th id=\"T_8a45b_level0_col0\" class=\"col_heading level0 col0\" >MAE</th>\n",
       "      <th id=\"T_8a45b_level0_col1\" class=\"col_heading level0 col1\" >MSE</th>\n",
       "      <th id=\"T_8a45b_level0_col2\" class=\"col_heading level0 col2\" >RMSE</th>\n",
       "      <th id=\"T_8a45b_level0_col3\" class=\"col_heading level0 col3\" >R2</th>\n",
       "      <th id=\"T_8a45b_level0_col4\" class=\"col_heading level0 col4\" >RMSLE</th>\n",
       "      <th id=\"T_8a45b_level0_col5\" class=\"col_heading level0 col5\" >MAPE</th>\n",
       "    </tr>\n",
       "    <tr>\n",
       "      <th class=\"index_name level0\" >Fold</th>\n",
       "      <th class=\"blank col0\" >&nbsp;</th>\n",
       "      <th class=\"blank col1\" >&nbsp;</th>\n",
       "      <th class=\"blank col2\" >&nbsp;</th>\n",
       "      <th class=\"blank col3\" >&nbsp;</th>\n",
       "      <th class=\"blank col4\" >&nbsp;</th>\n",
       "      <th class=\"blank col5\" >&nbsp;</th>\n",
       "    </tr>\n",
       "  </thead>\n",
       "  <tbody>\n",
       "    <tr>\n",
       "      <th id=\"T_8a45b_level0_row0\" class=\"row_heading level0 row0\" >0</th>\n",
       "      <td id=\"T_8a45b_row0_col0\" class=\"data row0 col0\" >1.7991</td>\n",
       "      <td id=\"T_8a45b_row0_col1\" class=\"data row0 col1\" >4.5741</td>\n",
       "      <td id=\"T_8a45b_row0_col2\" class=\"data row0 col2\" >2.1387</td>\n",
       "      <td id=\"T_8a45b_row0_col3\" class=\"data row0 col3\" >0.9377</td>\n",
       "      <td id=\"T_8a45b_row0_col4\" class=\"data row0 col4\" >0.1097</td>\n",
       "      <td id=\"T_8a45b_row0_col5\" class=\"data row0 col5\" >0.0972</td>\n",
       "    </tr>\n",
       "    <tr>\n",
       "      <th id=\"T_8a45b_level0_row1\" class=\"row_heading level0 row1\" >1</th>\n",
       "      <td id=\"T_8a45b_row1_col0\" class=\"data row1 col0\" >2.5859</td>\n",
       "      <td id=\"T_8a45b_row1_col1\" class=\"data row1 col1\" >15.2156</td>\n",
       "      <td id=\"T_8a45b_row1_col2\" class=\"data row1 col2\" >3.9007</td>\n",
       "      <td id=\"T_8a45b_row1_col3\" class=\"data row1 col3\" >0.8602</td>\n",
       "      <td id=\"T_8a45b_row1_col4\" class=\"data row1 col4\" >0.1731</td>\n",
       "      <td id=\"T_8a45b_row1_col5\" class=\"data row1 col5\" >0.1456</td>\n",
       "    </tr>\n",
       "    <tr>\n",
       "      <th id=\"T_8a45b_level0_row2\" class=\"row_heading level0 row2\" >2</th>\n",
       "      <td id=\"T_8a45b_row2_col0\" class=\"data row2 col0\" >2.0876</td>\n",
       "      <td id=\"T_8a45b_row2_col1\" class=\"data row2 col1\" >8.7829</td>\n",
       "      <td id=\"T_8a45b_row2_col2\" class=\"data row2 col2\" >2.9636</td>\n",
       "      <td id=\"T_8a45b_row2_col3\" class=\"data row2 col3\" >0.8803</td>\n",
       "      <td id=\"T_8a45b_row2_col4\" class=\"data row2 col4\" >0.1421</td>\n",
       "      <td id=\"T_8a45b_row2_col5\" class=\"data row2 col5\" >0.1013</td>\n",
       "    </tr>\n",
       "    <tr>\n",
       "      <th id=\"T_8a45b_level0_row3\" class=\"row_heading level0 row3\" >3</th>\n",
       "      <td id=\"T_8a45b_row3_col0\" class=\"data row3 col0\" >1.7019</td>\n",
       "      <td id=\"T_8a45b_row3_col1\" class=\"data row3 col1\" >5.4039</td>\n",
       "      <td id=\"T_8a45b_row3_col2\" class=\"data row3 col2\" >2.3246</td>\n",
       "      <td id=\"T_8a45b_row3_col3\" class=\"data row3 col3\" >0.9318</td>\n",
       "      <td id=\"T_8a45b_row3_col4\" class=\"data row3 col4\" >0.1152</td>\n",
       "      <td id=\"T_8a45b_row3_col5\" class=\"data row3 col5\" >0.0886</td>\n",
       "    </tr>\n",
       "    <tr>\n",
       "      <th id=\"T_8a45b_level0_row4\" class=\"row_heading level0 row4\" >4</th>\n",
       "      <td id=\"T_8a45b_row4_col0\" class=\"data row4 col0\" >2.6142</td>\n",
       "      <td id=\"T_8a45b_row4_col1\" class=\"data row4 col1\" >18.8052</td>\n",
       "      <td id=\"T_8a45b_row4_col2\" class=\"data row4 col2\" >4.3365</td>\n",
       "      <td id=\"T_8a45b_row4_col3\" class=\"data row4 col3\" >0.8100</td>\n",
       "      <td id=\"T_8a45b_row4_col4\" class=\"data row4 col4\" >0.1321</td>\n",
       "      <td id=\"T_8a45b_row4_col5\" class=\"data row4 col5\" >0.0934</td>\n",
       "    </tr>\n",
       "    <tr>\n",
       "      <th id=\"T_8a45b_level0_row5\" class=\"row_heading level0 row5\" >5</th>\n",
       "      <td id=\"T_8a45b_row5_col0\" class=\"data row5 col0\" >2.0157</td>\n",
       "      <td id=\"T_8a45b_row5_col1\" class=\"data row5 col1\" >6.5280</td>\n",
       "      <td id=\"T_8a45b_row5_col2\" class=\"data row5 col2\" >2.5550</td>\n",
       "      <td id=\"T_8a45b_row5_col3\" class=\"data row5 col3\" >0.8630</td>\n",
       "      <td id=\"T_8a45b_row5_col4\" class=\"data row5 col4\" >0.1308</td>\n",
       "      <td id=\"T_8a45b_row5_col5\" class=\"data row5 col5\" >0.1021</td>\n",
       "    </tr>\n",
       "    <tr>\n",
       "      <th id=\"T_8a45b_level0_row6\" class=\"row_heading level0 row6\" >6</th>\n",
       "      <td id=\"T_8a45b_row6_col0\" class=\"data row6 col0\" >2.0618</td>\n",
       "      <td id=\"T_8a45b_row6_col1\" class=\"data row6 col1\" >9.8248</td>\n",
       "      <td id=\"T_8a45b_row6_col2\" class=\"data row6 col2\" >3.1345</td>\n",
       "      <td id=\"T_8a45b_row6_col3\" class=\"data row6 col3\" >0.8806</td>\n",
       "      <td id=\"T_8a45b_row6_col4\" class=\"data row6 col4\" >0.1379</td>\n",
       "      <td id=\"T_8a45b_row6_col5\" class=\"data row6 col5\" >0.1010</td>\n",
       "    </tr>\n",
       "    <tr>\n",
       "      <th id=\"T_8a45b_level0_row7\" class=\"row_heading level0 row7\" >7</th>\n",
       "      <td id=\"T_8a45b_row7_col0\" class=\"data row7 col0\" >2.5305</td>\n",
       "      <td id=\"T_8a45b_row7_col1\" class=\"data row7 col1\" >15.4367</td>\n",
       "      <td id=\"T_8a45b_row7_col2\" class=\"data row7 col2\" >3.9290</td>\n",
       "      <td id=\"T_8a45b_row7_col3\" class=\"data row7 col3\" >0.8246</td>\n",
       "      <td id=\"T_8a45b_row7_col4\" class=\"data row7 col4\" >0.1599</td>\n",
       "      <td id=\"T_8a45b_row7_col5\" class=\"data row7 col5\" >0.1270</td>\n",
       "    </tr>\n",
       "    <tr>\n",
       "      <th id=\"T_8a45b_level0_row8\" class=\"row_heading level0 row8\" >8</th>\n",
       "      <td id=\"T_8a45b_row8_col0\" class=\"data row8 col0\" >2.0615</td>\n",
       "      <td id=\"T_8a45b_row8_col1\" class=\"data row8 col1\" >7.7093</td>\n",
       "      <td id=\"T_8a45b_row8_col2\" class=\"data row8 col2\" >2.7766</td>\n",
       "      <td id=\"T_8a45b_row8_col3\" class=\"data row8 col3\" >0.8829</td>\n",
       "      <td id=\"T_8a45b_row8_col4\" class=\"data row8 col4\" >0.1606</td>\n",
       "      <td id=\"T_8a45b_row8_col5\" class=\"data row8 col5\" >0.1141</td>\n",
       "    </tr>\n",
       "    <tr>\n",
       "      <th id=\"T_8a45b_level0_row9\" class=\"row_heading level0 row9\" >9</th>\n",
       "      <td id=\"T_8a45b_row9_col0\" class=\"data row9 col0\" >2.2247</td>\n",
       "      <td id=\"T_8a45b_row9_col1\" class=\"data row9 col1\" >10.2340</td>\n",
       "      <td id=\"T_8a45b_row9_col2\" class=\"data row9 col2\" >3.1991</td>\n",
       "      <td id=\"T_8a45b_row9_col3\" class=\"data row9 col3\" >0.8829</td>\n",
       "      <td id=\"T_8a45b_row9_col4\" class=\"data row9 col4\" >0.1677</td>\n",
       "      <td id=\"T_8a45b_row9_col5\" class=\"data row9 col5\" >0.1290</td>\n",
       "    </tr>\n",
       "    <tr>\n",
       "      <th id=\"T_8a45b_level0_row10\" class=\"row_heading level0 row10\" >Mean</th>\n",
       "      <td id=\"T_8a45b_row10_col0\" class=\"data row10 col0\" >2.1683</td>\n",
       "      <td id=\"T_8a45b_row10_col1\" class=\"data row10 col1\" >10.2514</td>\n",
       "      <td id=\"T_8a45b_row10_col2\" class=\"data row10 col2\" >3.1258</td>\n",
       "      <td id=\"T_8a45b_row10_col3\" class=\"data row10 col3\" >0.8754</td>\n",
       "      <td id=\"T_8a45b_row10_col4\" class=\"data row10 col4\" >0.1429</td>\n",
       "      <td id=\"T_8a45b_row10_col5\" class=\"data row10 col5\" >0.1100</td>\n",
       "    </tr>\n",
       "    <tr>\n",
       "      <th id=\"T_8a45b_level0_row11\" class=\"row_heading level0 row11\" >Std</th>\n",
       "      <td id=\"T_8a45b_row11_col0\" class=\"data row11 col0\" >0.3023</td>\n",
       "      <td id=\"T_8a45b_row11_col1\" class=\"data row11 col1\" >4.5066</td>\n",
       "      <td id=\"T_8a45b_row11_col2\" class=\"data row11 col2\" >0.6933</td>\n",
       "      <td id=\"T_8a45b_row11_col3\" class=\"data row11 col3\" >0.0380</td>\n",
       "      <td id=\"T_8a45b_row11_col4\" class=\"data row11 col4\" >0.0207</td>\n",
       "      <td id=\"T_8a45b_row11_col5\" class=\"data row11 col5\" >0.0175</td>\n",
       "    </tr>\n",
       "  </tbody>\n",
       "</table>\n"
      ],
      "text/plain": [
       "<pandas.io.formats.style.Styler at 0x7f0673fcf8e0>"
      ]
     },
     "metadata": {},
     "output_type": "display_data"
    },
    {
     "name": "stdout",
     "output_type": "stream",
     "text": [
      ">> <class 'sklearn.ensemble._forest.ExtraTreesRegressor'>\n"
     ]
    }
   ],
   "source": [
    "from pycaret.datasets import get_data\n",
    "import pycaret.regression as reg\n",
    "\n",
    "boston = get_data('boston')\n",
    "session = reg.setup(data=boston, target='medv', silent=True, verbose=False)\n",
    "\n",
    "topk = reg.compare_models(n_select=3, include=['rf', 'gbr', 'et'])\n",
    "topk_tuned = [reg.tune_model(model) for model in topk]\n",
    "\n",
    "bagger = [reg.ensemble_model(model, method='Bagging') for model in topk_tuned]\n",
    "booster = [reg.ensemble_model(model, method='Boosting') for model in topk_tuned]\n",
    "blender = reg.blend_models(topk_tuned)\n",
    "stacker = reg.stack_models(topk_tuned)\n",
    "\n",
    "best_automl = reg.automl(optimize='MAE')\n",
    "best_automl = reg.finalize_model(best_automl)\n",
    "\n",
    "best_model = reg.get_config('prep_pipe')\n",
    "best_model.steps.append(['trained_model', best_automl])\n",
    "print(\">>\", type(best_model.steps[-1][-1]))"
   ]
  },
  {
   "cell_type": "code",
   "execution_count": 2,
   "metadata": {},
   "outputs": [
    {
     "data": {
      "text/plain": [
       "[('dtypes',\n",
       "  DataTypes_Auto_infer(categorical_features=[], display_types=False,\n",
       "                       features_todrop=[], id_columns=[], ml_usecase='regression',\n",
       "                       numerical_features=[], target='medv', time_features=[])),\n",
       " ('imputer',\n",
       "  Simple_Imputer(categorical_strategy='not_available',\n",
       "                 fill_value_categorical=None, fill_value_numerical=None,\n",
       "                 numeric_strategy='mean', target_variable=None)),\n",
       " ('new_levels1',\n",
       "  New_Catagorical_Levels_in_TestData(replacement_strategy='least frequent',\n",
       "                                     target='medv')),\n",
       " ('ordinal', 'passthrough'),\n",
       " ('cardinality', 'passthrough'),\n",
       " ('znz', 'passthrough'),\n",
       " ('club_R_L', 'passthrough'),\n",
       " ('new_levels',\n",
       "  New_Catagorical_Levels_in_TestData(replacement_strategy='least frequent',\n",
       "                                     target='medv')),\n",
       " ('feature_time',\n",
       "  Make_Time_Features(list_of_features=None,\n",
       "                     time_feature=Index([], dtype='object'))),\n",
       " ('group', 'passthrough'),\n",
       " ('nonliner', 'passthrough'),\n",
       " ('scaling', 'passthrough'),\n",
       " ('P_transform', 'passthrough'),\n",
       " ('binn', 'passthrough'),\n",
       " ('rem_outliers', 'passthrough'),\n",
       " ('cluster_all', 'passthrough'),\n",
       " ('dummy', Dummify(target='medv')),\n",
       " ('fix_perfect', Remove_100(target='medv')),\n",
       " ('clean_names', Clean_Colum_Names()),\n",
       " ('feature_select', 'passthrough'),\n",
       " ('fix_multi', 'passthrough'),\n",
       " ('dfs', 'passthrough'),\n",
       " ('pca', 'passthrough')]"
      ]
     },
     "execution_count": 2,
     "metadata": {},
     "output_type": "execute_result"
    }
   ],
   "source": [
    "best_model.steps[:-1]"
   ]
  },
  {
   "cell_type": "code",
   "execution_count": 3,
   "metadata": {},
   "outputs": [
    {
     "data": {
      "text/plain": [
       "['trained_model',\n",
       " ExtraTreesRegressor(bootstrap=False, ccp_alpha=0.0, criterion='mse',\n",
       "                     max_depth=None, max_features='auto', max_leaf_nodes=None,\n",
       "                     max_samples=None, min_impurity_decrease=0.0,\n",
       "                     min_impurity_split=None, min_samples_leaf=1,\n",
       "                     min_samples_split=2, min_weight_fraction_leaf=0.0,\n",
       "                     n_estimators=100, n_jobs=-1, oob_score=False,\n",
       "                     random_state=4660, verbose=0, warm_start=False)]"
      ]
     },
     "execution_count": 3,
     "metadata": {},
     "output_type": "execute_result"
    }
   ],
   "source": [
    "best_model.steps[-1]"
   ]
  }
 ],
 "metadata": {
  "kernelspec": {
   "display_name": "Python 3.8.13 ('pycaret')",
   "language": "python",
   "name": "python3"
  },
  "language_info": {
   "codemirror_mode": {
    "name": "ipython",
    "version": 3
   },
   "file_extension": ".py",
   "mimetype": "text/x-python",
   "name": "python",
   "nbconvert_exporter": "python",
   "pygments_lexer": "ipython3",
   "version": "3.8.13"
  },
  "orig_nbformat": 4,
  "vscode": {
   "interpreter": {
    "hash": "fcf8c331bdb237f88f78319b869a69dedd08237022ecf120421c2ee643329080"
   }
  }
 },
 "nbformat": 4,
 "nbformat_minor": 2
}
