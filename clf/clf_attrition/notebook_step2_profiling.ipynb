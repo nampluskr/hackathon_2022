{
 "cells": [
  {
   "cell_type": "code",
   "execution_count": null,
   "metadata": {},
   "outputs": [],
   "source": [
    "# !pip install -U pandas-profiling"
   ]
  },
  {
   "cell_type": "code",
   "execution_count": null,
   "metadata": {},
   "outputs": [],
   "source": [
    "import pandas as pd\n",
    "import pandas_profiling\n",
    "\n",
    "dataset_path = \"./WA_Fn-UseC_-HR-Employee-Attrition.csv\"\n",
    "target_name = \"Attrition\"\n",
    "train_size = 0.75\n",
    "\n",
    "dataset = pd.read_csv(dataset_path)\n",
    "dataset"
   ]
  },
  {
   "cell_type": "code",
   "execution_count": null,
   "metadata": {},
   "outputs": [],
   "source": [
    "dataset.profile_report()"
   ]
  }
 ],
 "metadata": {
  "interpreter": {
   "hash": "b86ded5c0e52b964262c5c61835f81e505778700a9e0c47e7601ccb149b00ffe"
  },
  "kernelspec": {
   "display_name": "Python 3.8.13 ('ml_pycaret')",
   "language": "python",
   "name": "python3"
  },
  "language_info": {
   "codemirror_mode": {
    "name": "ipython",
    "version": 3
   },
   "file_extension": ".py",
   "mimetype": "text/x-python",
   "name": "python",
   "nbconvert_exporter": "python",
   "pygments_lexer": "ipython3",
   "version": "3.8.13"
  },
  "orig_nbformat": 4
 },
 "nbformat": 4,
 "nbformat_minor": 2
}
