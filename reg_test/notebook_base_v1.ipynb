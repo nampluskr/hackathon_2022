{
 "cells": [
  {
   "cell_type": "code",
   "execution_count": 1,
   "metadata": {},
   "outputs": [],
   "source": [
    "import pycaret.regression as reg\n",
    "\n",
    "import time\n",
    "import datetime\n",
    "# import argparse\n",
    "\n",
    "import utils as my"
   ]
  },
  {
   "cell_type": "code",
   "execution_count": 2,
   "metadata": {},
   "outputs": [],
   "source": [
    "# dataset_path = \"../../hackathon/data/benz_train.csv\"\n",
    "# target_name = \"y\"\n",
    "\n",
    "dataset_path = \"../../hackathon/data/insurance.csv\"\n",
    "target_name = \"charges\"\n",
    "\n",
    "## Parameters for models\n",
    "model_filename = \"base-001\"\n",
    "model_names = ['rf', 'gbr', 'et']       ## 'xgboost', 'lightgbm', 'catboost'\n",
    "model_names = ['rf', 'gbr', 'et', 'xgboost', 'lightgbm', 'catboost']\n",
    "\n",
    "## Parameters for preprocessing\n",
    "pre_params = dict(\n",
    "    # ignore_features=['ID'], ## benz_train.csv\n",
    ")"
   ]
  },
  {
   "cell_type": "code",
   "execution_count": 3,
   "metadata": {},
   "outputs": [],
   "source": [
    "## argparse\n",
    "from types import SimpleNamespace\n",
    "\n",
    "args = SimpleNamespace()\n",
    "args.train_size = 0.75\n",
    "args.seed = 123\n",
    "\n",
    "args.use_gpu = False\n",
    "args.save = True\n",
    "args.verbose = False\n",
    "\n",
    "args.models = model_names\n",
    "args.metric = 'R2'\n",
    "args.n_folds = 10\n",
    "args.n_iter = 10\n",
    "args.n_top = 3"
   ]
  },
  {
   "cell_type": "markdown",
   "metadata": {},
   "source": [
    "## __main__"
   ]
  },
  {
   "cell_type": "code",
   "execution_count": 4,
   "metadata": {},
   "outputs": [],
   "source": [
    "## Global variables: dataset_path, model_filename, model_names\n",
    "\n",
    "def main(model_names, args, pre_params={}):\n",
    "    start_time = time.time()\n",
    "\n",
    "    ## Preprocessing\n",
    "    train, test = my.get_data(dataset_path, args.train_size, random_state=args.seed)\n",
    "    session = reg.setup(train, target=target_name, silent=True, verbose=args.verbose,\n",
    "                        **pre_params)\n",
    "\n",
    "    ## Training\n",
    "    topk = reg.compare_models(n_select=args.n_top, verbose=False, sort=args.metric, \n",
    "                              include=model_names)\n",
    "    topk_tuned = [reg.tune_model(model, optimize=args.metric, n_iter=args.n_iter,\n",
    "                                 choose_better=True, verbose=False) for model in topk]\n",
    "\n",
    "    blender = reg.blend_models(topk_tuned, fold=args.n_folds, optimize=args.metric,\n",
    "                               choose_better=True, verbose=args.verbose)\n",
    "    stacker = reg.stack_models(topk_tuned, fold=args.n_folds, optimize=args.metric,\n",
    "                               choose_better=True, verbose=args.verbose)\n",
    "\n",
    "    automl = reg.automl(optimize=args.metric)\n",
    "    automl = reg.finalize_model(automl)\n",
    "\n",
    "    best = None\n",
    "    best = reg.get_config('prep_pipe')\n",
    "    best.steps.append(['trained_model', automl])\n",
    "    print(\">>\", type(best.steps[-1][-1]))\n",
    "\n",
    "    tact = str(datetime.timedelta(seconds=time.time()-start_time)).split(\".\")[0]\n",
    "\n",
    "    ## Evaluation\n",
    "    train_scores = my.get_scores(best, train, train[target_name], name=model_filename, tact=tact)\n",
    "    test_scores = my.get_scores(best, test, test[target_name], name=model_filename, tact=tact)\n",
    "    my.save_results(args, train_scores, test_scores, filename=\"history.csv\")\n",
    "\n",
    "    filename = my.get_filename(model_filename, train_scores, test_scores,\n",
    "                               metrics=['RMSLE', 'R2'], random_state=args.seed)\n",
    "    if args.save:\n",
    "        reg.save_model(best, filename)\n",
    "\n",
    "    print(\"\\n>> Train scores:\\n\", train_scores)\n",
    "    print(\"\\n>> Test scores:\\n\", test_scores, \"\\n\")\n",
    "    print(\">>\", filename)\n",
    "    print(\">> %s\\n\" % tact)\n",
    "\n",
    "    # best_saved = reg.load_model(filename)\n",
    "    # test_scores = my.get_scores(best_saved, test, test[target_name], name=model_filename)\n",
    "    # print(\">> Test scores (Saved model):\\n\", test_scores, \"\\n\")"
   ]
  },
  {
   "cell_type": "code",
   "execution_count": 5,
   "metadata": {},
   "outputs": [
    {
     "name": "stdout",
     "output_type": "stream",
     "text": [
      "Train Data: (1004, 7)\n",
      "Test  Data: (334, 7) \n",
      "\n"
     ]
    },
    {
     "name": "stderr",
     "output_type": "stream",
     "text": [
      "/home/nam/miniconda3/envs/pycaret/lib/python3.8/site-packages/sklearn/model_selection/_validation.py:548: FitFailedWarning: Estimator fit failed. The score on this train-test partition for these parameters will be set to nan. Details: \n",
      "Traceback (most recent call last):\n",
      "  File \"/home/nam/miniconda3/envs/pycaret/lib/python3.8/site-packages/sklearn/model_selection/_validation.py\", line 531, in _fit_and_score\n",
      "    estimator.fit(X_train, y_train, **fit_params)\n",
      "  File \"/home/nam/miniconda3/envs/pycaret/lib/python3.8/site-packages/pycaret/internal/pipeline.py\", line 118, in fit\n",
      "    result = super().fit(X, y=y, **fit_kwargs)\n",
      "  File \"/home/nam/miniconda3/envs/pycaret/lib/python3.8/site-packages/imblearn/pipeline.py\", line 281, in fit\n",
      "    self._final_estimator.fit(Xt, yt, **fit_params)\n",
      "  File \"/home/nam/miniconda3/envs/pycaret/lib/python3.8/site-packages/catboost/core.py\", line 5590, in fit\n",
      "    return self._fit(X, y, cat_features, None, None, None, sample_weight, None, None, None, None, baseline,\n",
      "  File \"/home/nam/miniconda3/envs/pycaret/lib/python3.8/site-packages/catboost/core.py\", line 2262, in _fit\n",
      "    train_params = self._prepare_train_params(\n",
      "  File \"/home/nam/miniconda3/envs/pycaret/lib/python3.8/site-packages/catboost/core.py\", line 2194, in _prepare_train_params\n",
      "    _check_train_params(params)\n",
      "  File \"_catboost.pyx\", line 6032, in _catboost._check_train_params\n",
      "  File \"_catboost.pyx\", line 6051, in _catboost._check_train_params\n",
      "_catboost.CatBoostError: catboost/private/libs/options/boosting_options.cpp:79: Learning rate should be non-zero\n",
      "\n",
      "  warnings.warn(\"Estimator fit failed. The score on this train-test\"\n"
     ]
    },
    {
     "name": "stdout",
     "output_type": "stream",
     "text": [
      ">> <class 'sklearn.ensemble._voting.VotingRegressor'>\n",
      "Transformation Pipeline and Model Successfully Saved\n",
      "\n",
      ">> Train scores:\n",
      "       Model        MAE           MSE       RMSE      R2   RMSLE   MAPE  \\\n",
      "0  base-001  1832.7549  1.351577e+07  3676.3796  0.9033  0.3093  0.194   \n",
      "\n",
      "      Tact  \n",
      "0  0:02:11  \n",
      "\n",
      ">> Test scores:\n",
      "       Model        MAE           MSE       RMSE      R2   RMSLE    MAPE  \\\n",
      "0  base-001  2266.8401  2.177023e+07  4665.8578  0.8694  0.4147  0.2421   \n",
      "\n",
      "      Tact  \n",
      "0  0:02:11   \n",
      "\n",
      ">> base-001__train__RMSLE-0.3093_R2-0.9033__test__RMSLE-0.4147_R2-0.8694__seed-123\n",
      ">> 0:02:11\n",
      "\n"
     ]
    }
   ],
   "source": [
    "main(model_names, args, pre_params)"
   ]
  }
 ],
 "metadata": {
  "interpreter": {
   "hash": "fcf8c331bdb237f88f78319b869a69dedd08237022ecf120421c2ee643329080"
  },
  "kernelspec": {
   "display_name": "Python 3.8.13 ('pycaret')",
   "language": "python",
   "name": "python3"
  },
  "language_info": {
   "codemirror_mode": {
    "name": "ipython",
    "version": 3
   },
   "file_extension": ".py",
   "mimetype": "text/x-python",
   "name": "python",
   "nbconvert_exporter": "python",
   "pygments_lexer": "ipython3",
   "version": "3.8.13"
  },
  "orig_nbformat": 4
 },
 "nbformat": 4,
 "nbformat_minor": 2
}
