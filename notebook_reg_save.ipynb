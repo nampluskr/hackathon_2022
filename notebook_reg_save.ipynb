{
 "cells": [
  {
   "cell_type": "code",
   "execution_count": 6,
   "metadata": {},
   "outputs": [
    {
     "data": {
      "text/html": [
       "<style type=\"text/css\">\n",
       "#T_38a45_row10_col0, #T_38a45_row10_col1, #T_38a45_row10_col2, #T_38a45_row10_col3, #T_38a45_row10_col4, #T_38a45_row10_col5 {\n",
       "  background: yellow;\n",
       "}\n",
       "</style>\n",
       "<table id=\"T_38a45\">\n",
       "  <thead>\n",
       "    <tr>\n",
       "      <th class=\"blank level0\" >&nbsp;</th>\n",
       "      <th id=\"T_38a45_level0_col0\" class=\"col_heading level0 col0\" >MAE</th>\n",
       "      <th id=\"T_38a45_level0_col1\" class=\"col_heading level0 col1\" >MSE</th>\n",
       "      <th id=\"T_38a45_level0_col2\" class=\"col_heading level0 col2\" >RMSE</th>\n",
       "      <th id=\"T_38a45_level0_col3\" class=\"col_heading level0 col3\" >R2</th>\n",
       "      <th id=\"T_38a45_level0_col4\" class=\"col_heading level0 col4\" >RMSLE</th>\n",
       "      <th id=\"T_38a45_level0_col5\" class=\"col_heading level0 col5\" >MAPE</th>\n",
       "    </tr>\n",
       "    <tr>\n",
       "      <th class=\"index_name level0\" >Fold</th>\n",
       "      <th class=\"blank col0\" >&nbsp;</th>\n",
       "      <th class=\"blank col1\" >&nbsp;</th>\n",
       "      <th class=\"blank col2\" >&nbsp;</th>\n",
       "      <th class=\"blank col3\" >&nbsp;</th>\n",
       "      <th class=\"blank col4\" >&nbsp;</th>\n",
       "      <th class=\"blank col5\" >&nbsp;</th>\n",
       "    </tr>\n",
       "  </thead>\n",
       "  <tbody>\n",
       "    <tr>\n",
       "      <th id=\"T_38a45_level0_row0\" class=\"row_heading level0 row0\" >0</th>\n",
       "      <td id=\"T_38a45_row0_col0\" class=\"data row0 col0\" >3.5240</td>\n",
       "      <td id=\"T_38a45_row0_col1\" class=\"data row0 col1\" >23.8843</td>\n",
       "      <td id=\"T_38a45_row0_col2\" class=\"data row0 col2\" >4.8872</td>\n",
       "      <td id=\"T_38a45_row0_col3\" class=\"data row0 col3\" >0.7672</td>\n",
       "      <td id=\"T_38a45_row0_col4\" class=\"data row0 col4\" >0.2239</td>\n",
       "      <td id=\"T_38a45_row0_col5\" class=\"data row0 col5\" >0.1912</td>\n",
       "    </tr>\n",
       "    <tr>\n",
       "      <th id=\"T_38a45_level0_row1\" class=\"row_heading level0 row1\" >1</th>\n",
       "      <td id=\"T_38a45_row1_col0\" class=\"data row1 col0\" >4.1734</td>\n",
       "      <td id=\"T_38a45_row1_col1\" class=\"data row1 col1\" >32.5135</td>\n",
       "      <td id=\"T_38a45_row1_col2\" class=\"data row1 col2\" >5.7021</td>\n",
       "      <td id=\"T_38a45_row1_col3\" class=\"data row1 col3\" >0.6977</td>\n",
       "      <td id=\"T_38a45_row1_col4\" class=\"data row1 col4\" >0.1899</td>\n",
       "      <td id=\"T_38a45_row1_col5\" class=\"data row1 col5\" >0.1632</td>\n",
       "    </tr>\n",
       "    <tr>\n",
       "      <th id=\"T_38a45_level0_row2\" class=\"row_heading level0 row2\" >2</th>\n",
       "      <td id=\"T_38a45_row2_col0\" class=\"data row2 col0\" >3.5374</td>\n",
       "      <td id=\"T_38a45_row2_col1\" class=\"data row2 col1\" >33.2901</td>\n",
       "      <td id=\"T_38a45_row2_col2\" class=\"data row2 col2\" >5.7698</td>\n",
       "      <td id=\"T_38a45_row2_col3\" class=\"data row2 col3\" >0.7069</td>\n",
       "      <td id=\"T_38a45_row2_col4\" class=\"data row2 col4\" >0.2159</td>\n",
       "      <td id=\"T_38a45_row2_col5\" class=\"data row2 col5\" >0.1492</td>\n",
       "    </tr>\n",
       "    <tr>\n",
       "      <th id=\"T_38a45_level0_row3\" class=\"row_heading level0 row3\" >3</th>\n",
       "      <td id=\"T_38a45_row3_col0\" class=\"data row3 col0\" >3.5915</td>\n",
       "      <td id=\"T_38a45_row3_col1\" class=\"data row3 col1\" >20.7692</td>\n",
       "      <td id=\"T_38a45_row3_col2\" class=\"data row3 col2\" >4.5573</td>\n",
       "      <td id=\"T_38a45_row3_col3\" class=\"data row3 col3\" >0.5608</td>\n",
       "      <td id=\"T_38a45_row3_col4\" class=\"data row3 col4\" >0.4145</td>\n",
       "      <td id=\"T_38a45_row3_col5\" class=\"data row3 col5\" >0.2204</td>\n",
       "    </tr>\n",
       "    <tr>\n",
       "      <th id=\"T_38a45_level0_row4\" class=\"row_heading level0 row4\" >4</th>\n",
       "      <td id=\"T_38a45_row4_col0\" class=\"data row4 col0\" >3.6817</td>\n",
       "      <td id=\"T_38a45_row4_col1\" class=\"data row4 col1\" >38.5256</td>\n",
       "      <td id=\"T_38a45_row4_col2\" class=\"data row4 col2\" >6.2069</td>\n",
       "      <td id=\"T_38a45_row4_col3\" class=\"data row4 col3\" >0.3365</td>\n",
       "      <td id=\"T_38a45_row4_col4\" class=\"data row4 col4\" >0.5538</td>\n",
       "      <td id=\"T_38a45_row4_col5\" class=\"data row4 col5\" >0.1888</td>\n",
       "    </tr>\n",
       "    <tr>\n",
       "      <th id=\"T_38a45_level0_row5\" class=\"row_heading level0 row5\" >5</th>\n",
       "      <td id=\"T_38a45_row5_col0\" class=\"data row5 col0\" >2.7018</td>\n",
       "      <td id=\"T_38a45_row5_col1\" class=\"data row5 col1\" >12.0004</td>\n",
       "      <td id=\"T_38a45_row5_col2\" class=\"data row5 col2\" >3.4642</td>\n",
       "      <td id=\"T_38a45_row5_col3\" class=\"data row5 col3\" >0.8874</td>\n",
       "      <td id=\"T_38a45_row5_col4\" class=\"data row5 col4\" >0.1817</td>\n",
       "      <td id=\"T_38a45_row5_col5\" class=\"data row5 col5\" >0.1585</td>\n",
       "    </tr>\n",
       "    <tr>\n",
       "      <th id=\"T_38a45_level0_row6\" class=\"row_heading level0 row6\" >6</th>\n",
       "      <td id=\"T_38a45_row6_col0\" class=\"data row6 col0\" >3.9317</td>\n",
       "      <td id=\"T_38a45_row6_col1\" class=\"data row6 col1\" >21.8902</td>\n",
       "      <td id=\"T_38a45_row6_col2\" class=\"data row6 col2\" >4.6787</td>\n",
       "      <td id=\"T_38a45_row6_col3\" class=\"data row6 col3\" >0.6045</td>\n",
       "      <td id=\"T_38a45_row6_col4\" class=\"data row6 col4\" >0.2052</td>\n",
       "      <td id=\"T_38a45_row6_col5\" class=\"data row6 col5\" >0.1797</td>\n",
       "    </tr>\n",
       "    <tr>\n",
       "      <th id=\"T_38a45_level0_row7\" class=\"row_heading level0 row7\" >7</th>\n",
       "      <td id=\"T_38a45_row7_col0\" class=\"data row7 col0\" >4.1061</td>\n",
       "      <td id=\"T_38a45_row7_col1\" class=\"data row7 col1\" >41.7581</td>\n",
       "      <td id=\"T_38a45_row7_col2\" class=\"data row7 col2\" >6.4621</td>\n",
       "      <td id=\"T_38a45_row7_col3\" class=\"data row7 col3\" >0.5364</td>\n",
       "      <td id=\"T_38a45_row7_col4\" class=\"data row7 col4\" >0.2348</td>\n",
       "      <td id=\"T_38a45_row7_col5\" class=\"data row7 col5\" >0.1518</td>\n",
       "    </tr>\n",
       "    <tr>\n",
       "      <th id=\"T_38a45_level0_row8\" class=\"row_heading level0 row8\" >8</th>\n",
       "      <td id=\"T_38a45_row8_col0\" class=\"data row8 col0\" >3.8990</td>\n",
       "      <td id=\"T_38a45_row8_col1\" class=\"data row8 col1\" >28.6824</td>\n",
       "      <td id=\"T_38a45_row8_col2\" class=\"data row8 col2\" >5.3556</td>\n",
       "      <td id=\"T_38a45_row8_col3\" class=\"data row8 col3\" >0.4910</td>\n",
       "      <td id=\"T_38a45_row8_col4\" class=\"data row8 col4\" >0.3021</td>\n",
       "      <td id=\"T_38a45_row8_col5\" class=\"data row8 col5\" >0.2222</td>\n",
       "    </tr>\n",
       "    <tr>\n",
       "      <th id=\"T_38a45_level0_row9\" class=\"row_heading level0 row9\" >9</th>\n",
       "      <td id=\"T_38a45_row9_col0\" class=\"data row9 col0\" >3.6811</td>\n",
       "      <td id=\"T_38a45_row9_col1\" class=\"data row9 col1\" >28.1027</td>\n",
       "      <td id=\"T_38a45_row9_col2\" class=\"data row9 col2\" >5.3012</td>\n",
       "      <td id=\"T_38a45_row9_col3\" class=\"data row9 col3\" >0.7248</td>\n",
       "      <td id=\"T_38a45_row9_col4\" class=\"data row9 col4\" >0.1987</td>\n",
       "      <td id=\"T_38a45_row9_col5\" class=\"data row9 col5\" >0.1553</td>\n",
       "    </tr>\n",
       "    <tr>\n",
       "      <th id=\"T_38a45_level0_row10\" class=\"row_heading level0 row10\" >Mean</th>\n",
       "      <td id=\"T_38a45_row10_col0\" class=\"data row10 col0\" >3.6828</td>\n",
       "      <td id=\"T_38a45_row10_col1\" class=\"data row10 col1\" >28.1416</td>\n",
       "      <td id=\"T_38a45_row10_col2\" class=\"data row10 col2\" >5.2385</td>\n",
       "      <td id=\"T_38a45_row10_col3\" class=\"data row10 col3\" >0.6313</td>\n",
       "      <td id=\"T_38a45_row10_col4\" class=\"data row10 col4\" >0.2720</td>\n",
       "      <td id=\"T_38a45_row10_col5\" class=\"data row10 col5\" >0.1780</td>\n",
       "    </tr>\n",
       "    <tr>\n",
       "      <th id=\"T_38a45_level0_row11\" class=\"row_heading level0 row11\" >Std</th>\n",
       "      <td id=\"T_38a45_row11_col0\" class=\"data row11 col0\" >0.3932</td>\n",
       "      <td id=\"T_38a45_row11_col1\" class=\"data row11 col1\" >8.4335</td>\n",
       "      <td id=\"T_38a45_row11_col2\" class=\"data row11 col2\" >0.8366</td>\n",
       "      <td id=\"T_38a45_row11_col3\" class=\"data row11 col3\" >0.1497</td>\n",
       "      <td id=\"T_38a45_row11_col4\" class=\"data row11 col4\" >0.1150</td>\n",
       "      <td id=\"T_38a45_row11_col5\" class=\"data row11 col5\" >0.0258</td>\n",
       "    </tr>\n",
       "  </tbody>\n",
       "</table>\n"
      ],
      "text/plain": [
       "<pandas.io.formats.style.Styler at 0x7f36da6366a0>"
      ]
     },
     "metadata": {},
     "output_type": "display_data"
    },
    {
     "name": "stdout",
     "output_type": "stream",
     "text": [
      "Transformation Pipeline and Model Successfully Saved\n",
      "Transformation Pipeline and Model Successfully Saved\n"
     ]
    },
    {
     "data": {
      "text/plain": [
       "(Pipeline(memory=None,\n",
       "          steps=[('dtypes',\n",
       "                  DataTypes_Auto_infer(categorical_features=[],\n",
       "                                       display_types=False, features_todrop=[],\n",
       "                                       id_columns=[], ml_usecase='regression',\n",
       "                                       numerical_features=[], target='medv',\n",
       "                                       time_features=[])),\n",
       "                 ('imputer',\n",
       "                  Simple_Imputer(categorical_strategy='not_available',\n",
       "                                 fill_value_categorical=None,\n",
       "                                 fill_value_numerical=None,\n",
       "                                 numeric_strategy='...\n",
       "                 ('cluster_all', 'passthrough'),\n",
       "                 ('dummy', Dummify(target='medv')),\n",
       "                 ('fix_perfect', Remove_100(target='medv')),\n",
       "                 ('clean_names', Clean_Colum_Names()),\n",
       "                 ('feature_select', 'passthrough'), ('fix_multi', 'passthrough'),\n",
       "                 ('dfs', 'passthrough'), ('pca', 'passthrough'),\n",
       "                 ['trained_model',\n",
       "                  LinearRegression(copy_X=True, fit_intercept=True, n_jobs=-1,\n",
       "                                   normalize=False)]],\n",
       "          verbose=False),\n",
       " 'lr_saved_3.pkl')"
      ]
     },
     "execution_count": 6,
     "metadata": {},
     "output_type": "execute_result"
    }
   ],
   "source": [
    "from pycaret.datasets import get_data\n",
    "import pycaret.regression as reg\n",
    "import pickle\n",
    "\n",
    "boston = get_data('boston')\n",
    "session = reg.setup(data=boston, target='medv', silent=True, verbose=False)\n",
    "\n",
    "lr = reg.create_model('lr', verbose=False)\n",
    "lr_tuned = reg.tune_model(lr)\n",
    "lr_tuned = reg.finalize_model(lr_tuned)\n",
    "\n",
    "## Method-1\n",
    "reg.save_model(lr_tuned, 'lr_saved_1')\n",
    "\n",
    "## Method-2\n",
    "lr_pipe = reg.get_config('prep_pipe')\n",
    "lr_pipe.steps.append(['trained_model', lr_tuned])\n",
    "pickle.dump(lr_pipe, open('lr_saved_2.pkl', 'wb'))\n",
    "\n",
    "## Method-3\n",
    "reg.save_model(lr_pipe, 'lr_saved_3')"
   ]
  },
  {
   "cell_type": "code",
   "execution_count": 7,
   "metadata": {},
   "outputs": [
    {
     "data": {
      "text/plain": [
       "LinearRegression(copy_X=True, fit_intercept=True, n_jobs=-1, normalize=False)"
      ]
     },
     "execution_count": 7,
     "metadata": {},
     "output_type": "execute_result"
    }
   ],
   "source": [
    "## Note: lr_tuned -> model (not Pipeline)\n",
    "\n",
    "lr_tuned"
   ]
  },
  {
   "cell_type": "code",
   "execution_count": 8,
   "metadata": {},
   "outputs": [
    {
     "data": {
      "text/plain": [
       "Pipeline(memory=None,\n",
       "         steps=[('dtypes',\n",
       "                 DataTypes_Auto_infer(categorical_features=[],\n",
       "                                      display_types=False, features_todrop=[],\n",
       "                                      id_columns=[], ml_usecase='regression',\n",
       "                                      numerical_features=[], target='medv',\n",
       "                                      time_features=[])),\n",
       "                ('imputer',\n",
       "                 Simple_Imputer(categorical_strategy='not_available',\n",
       "                                fill_value_categorical=None,\n",
       "                                fill_value_numerical=None,\n",
       "                                numeric_strategy='...\n",
       "                ('cluster_all', 'passthrough'),\n",
       "                ('dummy', Dummify(target='medv')),\n",
       "                ('fix_perfect', Remove_100(target='medv')),\n",
       "                ('clean_names', Clean_Colum_Names()),\n",
       "                ('feature_select', 'passthrough'), ('fix_multi', 'passthrough'),\n",
       "                ('dfs', 'passthrough'), ('pca', 'passthrough'),\n",
       "                ['trained_model',\n",
       "                 LinearRegression(copy_X=True, fit_intercept=True, n_jobs=-1,\n",
       "                                  normalize=False)]],\n",
       "         verbose=False)"
      ]
     },
     "execution_count": 8,
     "metadata": {},
     "output_type": "execute_result"
    }
   ],
   "source": [
    "## Note: lr_pipe -> Pipeline: preprocessor + model\n",
    "\n",
    "lr_pipe"
   ]
  },
  {
   "cell_type": "code",
   "execution_count": 9,
   "metadata": {},
   "outputs": [
    {
     "name": "stdout",
     "output_type": "stream",
     "text": [
      "Transformation Pipeline and Model Successfully Loaded\n",
      "Transformation Pipeline and Model Successfully Loaded\n"
     ]
    },
    {
     "data": {
      "text/html": [
       "<style type=\"text/css\">\n",
       "</style>\n",
       "<table id=\"T_d6413\">\n",
       "  <thead>\n",
       "    <tr>\n",
       "      <th class=\"blank level0\" >&nbsp;</th>\n",
       "      <th id=\"T_d6413_level0_col0\" class=\"col_heading level0 col0\" >Model</th>\n",
       "      <th id=\"T_d6413_level0_col1\" class=\"col_heading level0 col1\" >MAE</th>\n",
       "      <th id=\"T_d6413_level0_col2\" class=\"col_heading level0 col2\" >MSE</th>\n",
       "      <th id=\"T_d6413_level0_col3\" class=\"col_heading level0 col3\" >RMSE</th>\n",
       "      <th id=\"T_d6413_level0_col4\" class=\"col_heading level0 col4\" >R2</th>\n",
       "      <th id=\"T_d6413_level0_col5\" class=\"col_heading level0 col5\" >RMSLE</th>\n",
       "      <th id=\"T_d6413_level0_col6\" class=\"col_heading level0 col6\" >MAPE</th>\n",
       "    </tr>\n",
       "  </thead>\n",
       "  <tbody>\n",
       "    <tr>\n",
       "      <th id=\"T_d6413_level0_row0\" class=\"row_heading level0 row0\" >0</th>\n",
       "      <td id=\"T_d6413_row0_col0\" class=\"data row0 col0\" >Linear Regression</td>\n",
       "      <td id=\"T_d6413_row0_col1\" class=\"data row0 col1\" >3.1923</td>\n",
       "      <td id=\"T_d6413_row0_col2\" class=\"data row0 col2\" >21.1161</td>\n",
       "      <td id=\"T_d6413_row0_col3\" class=\"data row0 col3\" >4.5952</td>\n",
       "      <td id=\"T_d6413_row0_col4\" class=\"data row0 col4\" >0.7499</td>\n",
       "      <td id=\"T_d6413_row0_col5\" class=\"data row0 col5\" >0.2375</td>\n",
       "      <td id=\"T_d6413_row0_col6\" class=\"data row0 col6\" >0.1600</td>\n",
       "    </tr>\n",
       "  </tbody>\n",
       "</table>\n"
      ],
      "text/plain": [
       "<pandas.io.formats.style.Styler at 0x7f36da5d1d00>"
      ]
     },
     "metadata": {},
     "output_type": "display_data"
    },
    {
     "data": {
      "text/html": [
       "<style type=\"text/css\">\n",
       "</style>\n",
       "<table id=\"T_0356c\">\n",
       "  <thead>\n",
       "    <tr>\n",
       "      <th class=\"blank level0\" >&nbsp;</th>\n",
       "      <th id=\"T_0356c_level0_col0\" class=\"col_heading level0 col0\" >Model</th>\n",
       "      <th id=\"T_0356c_level0_col1\" class=\"col_heading level0 col1\" >MAE</th>\n",
       "      <th id=\"T_0356c_level0_col2\" class=\"col_heading level0 col2\" >MSE</th>\n",
       "      <th id=\"T_0356c_level0_col3\" class=\"col_heading level0 col3\" >RMSE</th>\n",
       "      <th id=\"T_0356c_level0_col4\" class=\"col_heading level0 col4\" >R2</th>\n",
       "      <th id=\"T_0356c_level0_col5\" class=\"col_heading level0 col5\" >RMSLE</th>\n",
       "      <th id=\"T_0356c_level0_col6\" class=\"col_heading level0 col6\" >MAPE</th>\n",
       "    </tr>\n",
       "  </thead>\n",
       "  <tbody>\n",
       "    <tr>\n",
       "      <th id=\"T_0356c_level0_row0\" class=\"row_heading level0 row0\" >0</th>\n",
       "      <td id=\"T_0356c_row0_col0\" class=\"data row0 col0\" >Linear Regression</td>\n",
       "      <td id=\"T_0356c_row0_col1\" class=\"data row0 col1\" >3.1923</td>\n",
       "      <td id=\"T_0356c_row0_col2\" class=\"data row0 col2\" >21.1161</td>\n",
       "      <td id=\"T_0356c_row0_col3\" class=\"data row0 col3\" >4.5952</td>\n",
       "      <td id=\"T_0356c_row0_col4\" class=\"data row0 col4\" >0.7499</td>\n",
       "      <td id=\"T_0356c_row0_col5\" class=\"data row0 col5\" >0.2375</td>\n",
       "      <td id=\"T_0356c_row0_col6\" class=\"data row0 col6\" >0.1600</td>\n",
       "    </tr>\n",
       "  </tbody>\n",
       "</table>\n"
      ],
      "text/plain": [
       "<pandas.io.formats.style.Styler at 0x7f379afe97f0>"
      ]
     },
     "metadata": {},
     "output_type": "display_data"
    },
    {
     "data": {
      "text/html": [
       "<style type=\"text/css\">\n",
       "</style>\n",
       "<table id=\"T_afa91\">\n",
       "  <thead>\n",
       "    <tr>\n",
       "      <th class=\"blank level0\" >&nbsp;</th>\n",
       "      <th id=\"T_afa91_level0_col0\" class=\"col_heading level0 col0\" >Model</th>\n",
       "      <th id=\"T_afa91_level0_col1\" class=\"col_heading level0 col1\" >MAE</th>\n",
       "      <th id=\"T_afa91_level0_col2\" class=\"col_heading level0 col2\" >MSE</th>\n",
       "      <th id=\"T_afa91_level0_col3\" class=\"col_heading level0 col3\" >RMSE</th>\n",
       "      <th id=\"T_afa91_level0_col4\" class=\"col_heading level0 col4\" >R2</th>\n",
       "      <th id=\"T_afa91_level0_col5\" class=\"col_heading level0 col5\" >RMSLE</th>\n",
       "      <th id=\"T_afa91_level0_col6\" class=\"col_heading level0 col6\" >MAPE</th>\n",
       "    </tr>\n",
       "  </thead>\n",
       "  <tbody>\n",
       "    <tr>\n",
       "      <th id=\"T_afa91_level0_row0\" class=\"row_heading level0 row0\" >0</th>\n",
       "      <td id=\"T_afa91_row0_col0\" class=\"data row0 col0\" >Linear Regression</td>\n",
       "      <td id=\"T_afa91_row0_col1\" class=\"data row0 col1\" >3.1923</td>\n",
       "      <td id=\"T_afa91_row0_col2\" class=\"data row0 col2\" >21.1161</td>\n",
       "      <td id=\"T_afa91_row0_col3\" class=\"data row0 col3\" >4.5952</td>\n",
       "      <td id=\"T_afa91_row0_col4\" class=\"data row0 col4\" >0.7499</td>\n",
       "      <td id=\"T_afa91_row0_col5\" class=\"data row0 col5\" >0.2375</td>\n",
       "      <td id=\"T_afa91_row0_col6\" class=\"data row0 col6\" >0.1600</td>\n",
       "    </tr>\n",
       "  </tbody>\n",
       "</table>\n"
      ],
      "text/plain": [
       "<pandas.io.formats.style.Styler at 0x7f36da686fd0>"
      ]
     },
     "metadata": {},
     "output_type": "display_data"
    }
   ],
   "source": [
    "## Note: lr_loaded_1, lr_loaded_2, lr_loaded_3 -> all Pipeline\n",
    "\n",
    "from sklearn.metrics import r2_score\n",
    "\n",
    "lr_loaded_1 = reg.load_model('lr_saved_1') \n",
    "lr_loaded_2 = pickle.load(open('lr_saved_2.pkl', 'rb'))\n",
    "lr_loaded_3 = reg.load_model('lr_saved_3')\n",
    "\n",
    "pred1 = reg.predict_model(lr_loaded_1, data=boston)\n",
    "pred2 = reg.predict_model(lr_loaded_2, data=boston)\n",
    "pred3 = reg.predict_model(lr_loaded_3, data=boston)"
   ]
  },
  {
   "cell_type": "code",
   "execution_count": 10,
   "metadata": {},
   "outputs": [
    {
     "name": "stdout",
     "output_type": "stream",
     "text": [
      "0.7498672483406443\n",
      "0.7498672483406443\n",
      "0.7498672483406443\n"
     ]
    }
   ],
   "source": [
    "y_ture = boston['medv']\n",
    "y_pred1 = lr_loaded_1.predict(boston)\n",
    "y_pred2 = lr_loaded_2.predict(boston)\n",
    "y_pred3 = lr_loaded_3.predict(boston)\n",
    "\n",
    "print(r2_score(y_ture, y_pred1))\n",
    "print(r2_score(y_ture, y_pred2))\n",
    "print(r2_score(y_ture, y_pred3))"
   ]
  },
  {
   "cell_type": "code",
   "execution_count": 12,
   "metadata": {},
   "outputs": [
    {
     "name": "stdout",
     "output_type": "stream",
     "text": [
      "Transformation Pipeline and Model Successfully Loaded\n"
     ]
    },
    {
     "data": {
      "text/plain": [
       "Pipeline(memory=None,\n",
       "         steps=[('dtypes',\n",
       "                 DataTypes_Auto_infer(categorical_features=[],\n",
       "                                      display_types=False, features_todrop=[],\n",
       "                                      id_columns=[], ml_usecase='regression',\n",
       "                                      numerical_features=[], target='medv',\n",
       "                                      time_features=[])),\n",
       "                ('imputer',\n",
       "                 Simple_Imputer(categorical_strategy='not_available',\n",
       "                                fill_value_categorical=None,\n",
       "                                fill_value_numerical=None,\n",
       "                                numeric_strategy='...\n",
       "                ('cluster_all', 'passthrough'),\n",
       "                ('dummy', Dummify(target='medv')),\n",
       "                ('fix_perfect', Remove_100(target='medv')),\n",
       "                ('clean_names', Clean_Colum_Names()),\n",
       "                ('feature_select', 'passthrough'), ('fix_multi', 'passthrough'),\n",
       "                ('dfs', 'passthrough'), ('pca', 'passthrough'),\n",
       "                ['trained_model',\n",
       "                 LinearRegression(copy_X=True, fit_intercept=True, n_jobs=-1,\n",
       "                                  normalize=False)]],\n",
       "         verbose=False)"
      ]
     },
     "execution_count": 12,
     "metadata": {},
     "output_type": "execute_result"
    }
   ],
   "source": [
    "## Save pycaret model to pickle\n",
    "model_final = reg.load_model('lr_saved_1')\n",
    "pickle.dump(model_final, open('model_final.pkl', 'wb'))\n",
    "\n",
    "## Load pickle model to sklearn\n",
    "model_loaded = pickle.load(open('model_final.pkl', 'rb'))\n",
    "\n",
    "model_loaded"
   ]
  }
 ],
 "metadata": {
  "kernelspec": {
   "display_name": "Python 3.8.13 ('pycaret')",
   "language": "python",
   "name": "python3"
  },
  "language_info": {
   "codemirror_mode": {
    "name": "ipython",
    "version": 3
   },
   "file_extension": ".py",
   "mimetype": "text/x-python",
   "name": "python",
   "nbconvert_exporter": "python",
   "pygments_lexer": "ipython3",
   "version": "3.8.13"
  },
  "orig_nbformat": 4,
  "vscode": {
   "interpreter": {
    "hash": "fcf8c331bdb237f88f78319b869a69dedd08237022ecf120421c2ee643329080"
   }
  }
 },
 "nbformat": 4,
 "nbformat_minor": 2
}
