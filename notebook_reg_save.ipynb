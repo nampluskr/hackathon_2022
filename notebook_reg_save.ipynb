{
 "cells": [
  {
   "cell_type": "code",
   "execution_count": 1,
   "metadata": {},
   "outputs": [
    {
     "data": {
      "text/html": [
       "<style type=\"text/css\">\n",
       "#T_f6488_row10_col0, #T_f6488_row10_col1, #T_f6488_row10_col2, #T_f6488_row10_col3, #T_f6488_row10_col4, #T_f6488_row10_col5 {\n",
       "  background: yellow;\n",
       "}\n",
       "</style>\n",
       "<table id=\"T_f6488\">\n",
       "  <thead>\n",
       "    <tr>\n",
       "      <th class=\"blank level0\" >&nbsp;</th>\n",
       "      <th id=\"T_f6488_level0_col0\" class=\"col_heading level0 col0\" >MAE</th>\n",
       "      <th id=\"T_f6488_level0_col1\" class=\"col_heading level0 col1\" >MSE</th>\n",
       "      <th id=\"T_f6488_level0_col2\" class=\"col_heading level0 col2\" >RMSE</th>\n",
       "      <th id=\"T_f6488_level0_col3\" class=\"col_heading level0 col3\" >R2</th>\n",
       "      <th id=\"T_f6488_level0_col4\" class=\"col_heading level0 col4\" >RMSLE</th>\n",
       "      <th id=\"T_f6488_level0_col5\" class=\"col_heading level0 col5\" >MAPE</th>\n",
       "    </tr>\n",
       "    <tr>\n",
       "      <th class=\"index_name level0\" >Fold</th>\n",
       "      <th class=\"blank col0\" >&nbsp;</th>\n",
       "      <th class=\"blank col1\" >&nbsp;</th>\n",
       "      <th class=\"blank col2\" >&nbsp;</th>\n",
       "      <th class=\"blank col3\" >&nbsp;</th>\n",
       "      <th class=\"blank col4\" >&nbsp;</th>\n",
       "      <th class=\"blank col5\" >&nbsp;</th>\n",
       "    </tr>\n",
       "  </thead>\n",
       "  <tbody>\n",
       "    <tr>\n",
       "      <th id=\"T_f6488_level0_row0\" class=\"row_heading level0 row0\" >0</th>\n",
       "      <td id=\"T_f6488_row0_col0\" class=\"data row0 col0\" >3.7066</td>\n",
       "      <td id=\"T_f6488_row0_col1\" class=\"data row0 col1\" >26.6863</td>\n",
       "      <td id=\"T_f6488_row0_col2\" class=\"data row0 col2\" >5.1659</td>\n",
       "      <td id=\"T_f6488_row0_col3\" class=\"data row0 col3\" >0.7705</td>\n",
       "      <td id=\"T_f6488_row0_col4\" class=\"data row0 col4\" >0.2288</td>\n",
       "      <td id=\"T_f6488_row0_col5\" class=\"data row0 col5\" >0.1943</td>\n",
       "    </tr>\n",
       "    <tr>\n",
       "      <th id=\"T_f6488_level0_row1\" class=\"row_heading level0 row1\" >1</th>\n",
       "      <td id=\"T_f6488_row1_col0\" class=\"data row1 col0\" >3.2423</td>\n",
       "      <td id=\"T_f6488_row1_col1\" class=\"data row1 col1\" >19.3485</td>\n",
       "      <td id=\"T_f6488_row1_col2\" class=\"data row1 col2\" >4.3987</td>\n",
       "      <td id=\"T_f6488_row1_col3\" class=\"data row1 col3\" >0.7156</td>\n",
       "      <td id=\"T_f6488_row1_col4\" class=\"data row1 col4\" >0.2318</td>\n",
       "      <td id=\"T_f6488_row1_col5\" class=\"data row1 col5\" >0.2342</td>\n",
       "    </tr>\n",
       "    <tr>\n",
       "      <th id=\"T_f6488_level0_row2\" class=\"row_heading level0 row2\" >2</th>\n",
       "      <td id=\"T_f6488_row2_col0\" class=\"data row2 col0\" >3.7192</td>\n",
       "      <td id=\"T_f6488_row2_col1\" class=\"data row2 col1\" >24.2176</td>\n",
       "      <td id=\"T_f6488_row2_col2\" class=\"data row2 col2\" >4.9211</td>\n",
       "      <td id=\"T_f6488_row2_col3\" class=\"data row2 col3\" >0.6984</td>\n",
       "      <td id=\"T_f6488_row2_col4\" class=\"data row2 col4\" >0.3357</td>\n",
       "      <td id=\"T_f6488_row2_col5\" class=\"data row2 col5\" >0.1919</td>\n",
       "    </tr>\n",
       "    <tr>\n",
       "      <th id=\"T_f6488_level0_row3\" class=\"row_heading level0 row3\" >3</th>\n",
       "      <td id=\"T_f6488_row3_col0\" class=\"data row3 col0\" >2.1604</td>\n",
       "      <td id=\"T_f6488_row3_col1\" class=\"data row3 col1\" >8.8517</td>\n",
       "      <td id=\"T_f6488_row3_col2\" class=\"data row3 col2\" >2.9752</td>\n",
       "      <td id=\"T_f6488_row3_col3\" class=\"data row3 col3\" >0.8292</td>\n",
       "      <td id=\"T_f6488_row3_col4\" class=\"data row3 col4\" >0.1236</td>\n",
       "      <td id=\"T_f6488_row3_col5\" class=\"data row3 col5\" >0.0972</td>\n",
       "    </tr>\n",
       "    <tr>\n",
       "      <th id=\"T_f6488_level0_row4\" class=\"row_heading level0 row4\" >4</th>\n",
       "      <td id=\"T_f6488_row4_col0\" class=\"data row4 col0\" >3.9598</td>\n",
       "      <td id=\"T_f6488_row4_col1\" class=\"data row4 col1\" >35.0697</td>\n",
       "      <td id=\"T_f6488_row4_col2\" class=\"data row4 col2\" >5.9220</td>\n",
       "      <td id=\"T_f6488_row4_col3\" class=\"data row4 col3\" >0.6372</td>\n",
       "      <td id=\"T_f6488_row4_col4\" class=\"data row4 col4\" >0.2325</td>\n",
       "      <td id=\"T_f6488_row4_col5\" class=\"data row4 col5\" >0.1990</td>\n",
       "    </tr>\n",
       "    <tr>\n",
       "      <th id=\"T_f6488_level0_row5\" class=\"row_heading level0 row5\" >5</th>\n",
       "      <td id=\"T_f6488_row5_col0\" class=\"data row5 col0\" >3.8571</td>\n",
       "      <td id=\"T_f6488_row5_col1\" class=\"data row5 col1\" >20.9135</td>\n",
       "      <td id=\"T_f6488_row5_col2\" class=\"data row5 col2\" >4.5731</td>\n",
       "      <td id=\"T_f6488_row5_col3\" class=\"data row5 col3\" >0.6524</td>\n",
       "      <td id=\"T_f6488_row5_col4\" class=\"data row5 col4\" >0.2177</td>\n",
       "      <td id=\"T_f6488_row5_col5\" class=\"data row5 col5\" >0.1896</td>\n",
       "    </tr>\n",
       "    <tr>\n",
       "      <th id=\"T_f6488_level0_row6\" class=\"row_heading level0 row6\" >6</th>\n",
       "      <td id=\"T_f6488_row6_col0\" class=\"data row6 col0\" >3.4565</td>\n",
       "      <td id=\"T_f6488_row6_col1\" class=\"data row6 col1\" >18.6831</td>\n",
       "      <td id=\"T_f6488_row6_col2\" class=\"data row6 col2\" >4.3224</td>\n",
       "      <td id=\"T_f6488_row6_col3\" class=\"data row6 col3\" >0.7944</td>\n",
       "      <td id=\"T_f6488_row6_col4\" class=\"data row6 col4\" >0.2419</td>\n",
       "      <td id=\"T_f6488_row6_col5\" class=\"data row6 col5\" >0.1919</td>\n",
       "    </tr>\n",
       "    <tr>\n",
       "      <th id=\"T_f6488_level0_row7\" class=\"row_heading level0 row7\" >7</th>\n",
       "      <td id=\"T_f6488_row7_col0\" class=\"data row7 col0\" >3.9490</td>\n",
       "      <td id=\"T_f6488_row7_col1\" class=\"data row7 col1\" >37.8207</td>\n",
       "      <td id=\"T_f6488_row7_col2\" class=\"data row7 col2\" >6.1499</td>\n",
       "      <td id=\"T_f6488_row7_col3\" class=\"data row7 col3\" >0.7116</td>\n",
       "      <td id=\"T_f6488_row7_col4\" class=\"data row7 col4\" >0.2033</td>\n",
       "      <td id=\"T_f6488_row7_col5\" class=\"data row7 col5\" >0.1570</td>\n",
       "    </tr>\n",
       "    <tr>\n",
       "      <th id=\"T_f6488_level0_row8\" class=\"row_heading level0 row8\" >8</th>\n",
       "      <td id=\"T_f6488_row8_col0\" class=\"data row8 col0\" >3.4863</td>\n",
       "      <td id=\"T_f6488_row8_col1\" class=\"data row8 col1\" >29.4932</td>\n",
       "      <td id=\"T_f6488_row8_col2\" class=\"data row8 col2\" >5.4308</td>\n",
       "      <td id=\"T_f6488_row8_col3\" class=\"data row8 col3\" >0.6202</td>\n",
       "      <td id=\"T_f6488_row8_col4\" class=\"data row8 col4\" >0.4759</td>\n",
       "      <td id=\"T_f6488_row8_col5\" class=\"data row8 col5\" >0.1901</td>\n",
       "    </tr>\n",
       "    <tr>\n",
       "      <th id=\"T_f6488_level0_row9\" class=\"row_heading level0 row9\" >9</th>\n",
       "      <td id=\"T_f6488_row9_col0\" class=\"data row9 col0\" >3.2414</td>\n",
       "      <td id=\"T_f6488_row9_col1\" class=\"data row9 col1\" >15.4658</td>\n",
       "      <td id=\"T_f6488_row9_col2\" class=\"data row9 col2\" >3.9327</td>\n",
       "      <td id=\"T_f6488_row9_col3\" class=\"data row9 col3\" >0.8034</td>\n",
       "      <td id=\"T_f6488_row9_col4\" class=\"data row9 col4\" >0.1398</td>\n",
       "      <td id=\"T_f6488_row9_col5\" class=\"data row9 col5\" >0.1287</td>\n",
       "    </tr>\n",
       "    <tr>\n",
       "      <th id=\"T_f6488_level0_row10\" class=\"row_heading level0 row10\" >Mean</th>\n",
       "      <td id=\"T_f6488_row10_col0\" class=\"data row10 col0\" >3.4779</td>\n",
       "      <td id=\"T_f6488_row10_col1\" class=\"data row10 col1\" >23.6550</td>\n",
       "      <td id=\"T_f6488_row10_col2\" class=\"data row10 col2\" >4.7792</td>\n",
       "      <td id=\"T_f6488_row10_col3\" class=\"data row10 col3\" >0.7233</td>\n",
       "      <td id=\"T_f6488_row10_col4\" class=\"data row10 col4\" >0.2431</td>\n",
       "      <td id=\"T_f6488_row10_col5\" class=\"data row10 col5\" >0.1774</td>\n",
       "    </tr>\n",
       "    <tr>\n",
       "      <th id=\"T_f6488_level0_row11\" class=\"row_heading level0 row11\" >Std</th>\n",
       "      <td id=\"T_f6488_row11_col0\" class=\"data row11 col0\" >0.5056</td>\n",
       "      <td id=\"T_f6488_row11_col1\" class=\"data row11 col1\" >8.4352</td>\n",
       "      <td id=\"T_f6488_row11_col2\" class=\"data row11 col2\" >0.9025</td>\n",
       "      <td id=\"T_f6488_row11_col3\" class=\"data row11 col3\" >0.0699</td>\n",
       "      <td id=\"T_f6488_row11_col4\" class=\"data row11 col4\" >0.0951</td>\n",
       "      <td id=\"T_f6488_row11_col5\" class=\"data row11 col5\" >0.0373</td>\n",
       "    </tr>\n",
       "  </tbody>\n",
       "</table>\n"
      ],
      "text/plain": [
       "<pandas.io.formats.style.Styler at 0x7fc8473edee0>"
      ]
     },
     "metadata": {},
     "output_type": "display_data"
    },
    {
     "name": "stdout",
     "output_type": "stream",
     "text": [
      "Transformation Pipeline and Model Successfully Saved\n",
      "Transformation Pipeline and Model Successfully Saved\n"
     ]
    },
    {
     "data": {
      "text/plain": [
       "(Pipeline(memory=None,\n",
       "          steps=[('dtypes',\n",
       "                  DataTypes_Auto_infer(categorical_features=[],\n",
       "                                       display_types=False, features_todrop=[],\n",
       "                                       id_columns=[], ml_usecase='regression',\n",
       "                                       numerical_features=[], target='medv',\n",
       "                                       time_features=[])),\n",
       "                 ('imputer',\n",
       "                  Simple_Imputer(categorical_strategy='not_available',\n",
       "                                 fill_value_categorical=None,\n",
       "                                 fill_value_numerical=None,\n",
       "                                 numeric_strategy='...\n",
       "                 ('cluster_all', 'passthrough'),\n",
       "                 ('dummy', Dummify(target='medv')),\n",
       "                 ('fix_perfect', Remove_100(target='medv')),\n",
       "                 ('clean_names', Clean_Colum_Names()),\n",
       "                 ('feature_select', 'passthrough'), ('fix_multi', 'passthrough'),\n",
       "                 ('dfs', 'passthrough'), ('pca', 'passthrough'),\n",
       "                 ['trained_model',\n",
       "                  LinearRegression(copy_X=True, fit_intercept=False, n_jobs=-1,\n",
       "                                   normalize=True)]],\n",
       "          verbose=False),\n",
       " 'lr_saved_3.pkl')"
      ]
     },
     "execution_count": 1,
     "metadata": {},
     "output_type": "execute_result"
    }
   ],
   "source": [
    "from pycaret.datasets import get_data\n",
    "import pycaret.regression as reg\n",
    "import pickle\n",
    "\n",
    "boston = get_data('boston')\n",
    "session = reg.setup(data=boston, target='medv', silent=True, verbose=False)\n",
    "\n",
    "lr = reg.create_model('lr', verbose=False)\n",
    "lr_tuned = reg.tune_model(lr)\n",
    "lr_tuned = reg.finalize_model(lr_tuned)\n",
    "\n",
    "## Method-1\n",
    "reg.save_model(lr_tuned, 'lr_saved_1')\n",
    "\n",
    "## Method-2\n",
    "lr_pipe = reg.get_config('prep_pipe')\n",
    "lr_pipe.steps.append(['trained_model', lr_tuned])\n",
    "pickle.dump(lr_pipe, open('lr_saved_2.pkl', 'wb'))\n",
    "\n",
    "## Method-3\n",
    "reg.save_model(lr_pipe, 'lr_saved_3')"
   ]
  },
  {
   "cell_type": "code",
   "execution_count": 2,
   "metadata": {},
   "outputs": [
    {
     "data": {
      "text/plain": [
       "LinearRegression(copy_X=True, fit_intercept=False, n_jobs=-1, normalize=True)"
      ]
     },
     "execution_count": 2,
     "metadata": {},
     "output_type": "execute_result"
    }
   ],
   "source": [
    "## Note: lr_tuned -> model (not Pipeline)\n",
    "\n",
    "lr_tuned"
   ]
  },
  {
   "cell_type": "code",
   "execution_count": 3,
   "metadata": {},
   "outputs": [
    {
     "data": {
      "text/plain": [
       "Pipeline(memory=None,\n",
       "         steps=[('dtypes',\n",
       "                 DataTypes_Auto_infer(categorical_features=[],\n",
       "                                      display_types=False, features_todrop=[],\n",
       "                                      id_columns=[], ml_usecase='regression',\n",
       "                                      numerical_features=[], target='medv',\n",
       "                                      time_features=[])),\n",
       "                ('imputer',\n",
       "                 Simple_Imputer(categorical_strategy='not_available',\n",
       "                                fill_value_categorical=None,\n",
       "                                fill_value_numerical=None,\n",
       "                                numeric_strategy='...\n",
       "                ('cluster_all', 'passthrough'),\n",
       "                ('dummy', Dummify(target='medv')),\n",
       "                ('fix_perfect', Remove_100(target='medv')),\n",
       "                ('clean_names', Clean_Colum_Names()),\n",
       "                ('feature_select', 'passthrough'), ('fix_multi', 'passthrough'),\n",
       "                ('dfs', 'passthrough'), ('pca', 'passthrough'),\n",
       "                ['trained_model',\n",
       "                 LinearRegression(copy_X=True, fit_intercept=False, n_jobs=-1,\n",
       "                                  normalize=True)]],\n",
       "         verbose=False)"
      ]
     },
     "execution_count": 3,
     "metadata": {},
     "output_type": "execute_result"
    }
   ],
   "source": [
    "## Note: lr_pipe -> Pipeline: preprocessor + model\n",
    "\n",
    "lr_pipe"
   ]
  },
  {
   "cell_type": "code",
   "execution_count": 4,
   "metadata": {},
   "outputs": [
    {
     "name": "stdout",
     "output_type": "stream",
     "text": [
      "Transformation Pipeline and Model Successfully Loaded\n",
      "Transformation Pipeline and Model Successfully Loaded\n"
     ]
    },
    {
     "data": {
      "text/html": [
       "<style type=\"text/css\">\n",
       "</style>\n",
       "<table id=\"T_5a1fe\">\n",
       "  <thead>\n",
       "    <tr>\n",
       "      <th class=\"blank level0\" >&nbsp;</th>\n",
       "      <th id=\"T_5a1fe_level0_col0\" class=\"col_heading level0 col0\" >Model</th>\n",
       "      <th id=\"T_5a1fe_level0_col1\" class=\"col_heading level0 col1\" >MAE</th>\n",
       "      <th id=\"T_5a1fe_level0_col2\" class=\"col_heading level0 col2\" >MSE</th>\n",
       "      <th id=\"T_5a1fe_level0_col3\" class=\"col_heading level0 col3\" >RMSE</th>\n",
       "      <th id=\"T_5a1fe_level0_col4\" class=\"col_heading level0 col4\" >R2</th>\n",
       "      <th id=\"T_5a1fe_level0_col5\" class=\"col_heading level0 col5\" >RMSLE</th>\n",
       "      <th id=\"T_5a1fe_level0_col6\" class=\"col_heading level0 col6\" >MAPE</th>\n",
       "    </tr>\n",
       "  </thead>\n",
       "  <tbody>\n",
       "    <tr>\n",
       "      <th id=\"T_5a1fe_level0_row0\" class=\"row_heading level0 row0\" >0</th>\n",
       "      <td id=\"T_5a1fe_row0_col0\" class=\"data row0 col0\" >Linear Regression</td>\n",
       "      <td id=\"T_5a1fe_row0_col1\" class=\"data row0 col1\" >3.1923</td>\n",
       "      <td id=\"T_5a1fe_row0_col2\" class=\"data row0 col2\" >21.1161</td>\n",
       "      <td id=\"T_5a1fe_row0_col3\" class=\"data row0 col3\" >4.5952</td>\n",
       "      <td id=\"T_5a1fe_row0_col4\" class=\"data row0 col4\" >0.7499</td>\n",
       "      <td id=\"T_5a1fe_row0_col5\" class=\"data row0 col5\" >0.2375</td>\n",
       "      <td id=\"T_5a1fe_row0_col6\" class=\"data row0 col6\" >0.1600</td>\n",
       "    </tr>\n",
       "  </tbody>\n",
       "</table>\n"
      ],
      "text/plain": [
       "<pandas.io.formats.style.Styler at 0x7fc84739a280>"
      ]
     },
     "metadata": {},
     "output_type": "display_data"
    },
    {
     "data": {
      "text/html": [
       "<style type=\"text/css\">\n",
       "</style>\n",
       "<table id=\"T_d42be\">\n",
       "  <thead>\n",
       "    <tr>\n",
       "      <th class=\"blank level0\" >&nbsp;</th>\n",
       "      <th id=\"T_d42be_level0_col0\" class=\"col_heading level0 col0\" >Model</th>\n",
       "      <th id=\"T_d42be_level0_col1\" class=\"col_heading level0 col1\" >MAE</th>\n",
       "      <th id=\"T_d42be_level0_col2\" class=\"col_heading level0 col2\" >MSE</th>\n",
       "      <th id=\"T_d42be_level0_col3\" class=\"col_heading level0 col3\" >RMSE</th>\n",
       "      <th id=\"T_d42be_level0_col4\" class=\"col_heading level0 col4\" >R2</th>\n",
       "      <th id=\"T_d42be_level0_col5\" class=\"col_heading level0 col5\" >RMSLE</th>\n",
       "      <th id=\"T_d42be_level0_col6\" class=\"col_heading level0 col6\" >MAPE</th>\n",
       "    </tr>\n",
       "  </thead>\n",
       "  <tbody>\n",
       "    <tr>\n",
       "      <th id=\"T_d42be_level0_row0\" class=\"row_heading level0 row0\" >0</th>\n",
       "      <td id=\"T_d42be_row0_col0\" class=\"data row0 col0\" >Linear Regression</td>\n",
       "      <td id=\"T_d42be_row0_col1\" class=\"data row0 col1\" >3.1923</td>\n",
       "      <td id=\"T_d42be_row0_col2\" class=\"data row0 col2\" >21.1161</td>\n",
       "      <td id=\"T_d42be_row0_col3\" class=\"data row0 col3\" >4.5952</td>\n",
       "      <td id=\"T_d42be_row0_col4\" class=\"data row0 col4\" >0.7499</td>\n",
       "      <td id=\"T_d42be_row0_col5\" class=\"data row0 col5\" >0.2375</td>\n",
       "      <td id=\"T_d42be_row0_col6\" class=\"data row0 col6\" >0.1600</td>\n",
       "    </tr>\n",
       "  </tbody>\n",
       "</table>\n"
      ],
      "text/plain": [
       "<pandas.io.formats.style.Styler at 0x7fc847397400>"
      ]
     },
     "metadata": {},
     "output_type": "display_data"
    },
    {
     "data": {
      "text/html": [
       "<style type=\"text/css\">\n",
       "</style>\n",
       "<table id=\"T_2626b\">\n",
       "  <thead>\n",
       "    <tr>\n",
       "      <th class=\"blank level0\" >&nbsp;</th>\n",
       "      <th id=\"T_2626b_level0_col0\" class=\"col_heading level0 col0\" >Model</th>\n",
       "      <th id=\"T_2626b_level0_col1\" class=\"col_heading level0 col1\" >MAE</th>\n",
       "      <th id=\"T_2626b_level0_col2\" class=\"col_heading level0 col2\" >MSE</th>\n",
       "      <th id=\"T_2626b_level0_col3\" class=\"col_heading level0 col3\" >RMSE</th>\n",
       "      <th id=\"T_2626b_level0_col4\" class=\"col_heading level0 col4\" >R2</th>\n",
       "      <th id=\"T_2626b_level0_col5\" class=\"col_heading level0 col5\" >RMSLE</th>\n",
       "      <th id=\"T_2626b_level0_col6\" class=\"col_heading level0 col6\" >MAPE</th>\n",
       "    </tr>\n",
       "  </thead>\n",
       "  <tbody>\n",
       "    <tr>\n",
       "      <th id=\"T_2626b_level0_row0\" class=\"row_heading level0 row0\" >0</th>\n",
       "      <td id=\"T_2626b_row0_col0\" class=\"data row0 col0\" >Linear Regression</td>\n",
       "      <td id=\"T_2626b_row0_col1\" class=\"data row0 col1\" >3.1923</td>\n",
       "      <td id=\"T_2626b_row0_col2\" class=\"data row0 col2\" >21.1161</td>\n",
       "      <td id=\"T_2626b_row0_col3\" class=\"data row0 col3\" >4.5952</td>\n",
       "      <td id=\"T_2626b_row0_col4\" class=\"data row0 col4\" >0.7499</td>\n",
       "      <td id=\"T_2626b_row0_col5\" class=\"data row0 col5\" >0.2375</td>\n",
       "      <td id=\"T_2626b_row0_col6\" class=\"data row0 col6\" >0.1600</td>\n",
       "    </tr>\n",
       "  </tbody>\n",
       "</table>\n"
      ],
      "text/plain": [
       "<pandas.io.formats.style.Styler at 0x7fc847397400>"
      ]
     },
     "metadata": {},
     "output_type": "display_data"
    }
   ],
   "source": [
    "## Note: lr_loaded_1, lr_loaded_2, lr_loaded_3 -> all Pipeline\n",
    "\n",
    "from sklearn.metrics import r2_score\n",
    "\n",
    "lr_loaded_1 = reg.load_model('lr_saved_1') \n",
    "lr_loaded_2 = pickle.load(open('lr_saved_2.pkl', 'rb'))\n",
    "lr_loaded_3 = reg.load_model('lr_saved_3')\n",
    "\n",
    "pred1 = reg.predict_model(lr_loaded_1, data=boston)\n",
    "pred2 = reg.predict_model(lr_loaded_2, data=boston)\n",
    "pred3 = reg.predict_model(lr_loaded_3, data=boston)"
   ]
  },
  {
   "cell_type": "code",
   "execution_count": 7,
   "metadata": {},
   "outputs": [
    {
     "data": {
      "text/plain": [
       "(24, 24, 24)"
      ]
     },
     "execution_count": 7,
     "metadata": {},
     "output_type": "execute_result"
    }
   ],
   "source": [
    "len(lr_loaded_1.steps), len(lr_loaded_2.steps), len(lr_loaded_3.steps)"
   ]
  },
  {
   "cell_type": "code",
   "execution_count": 10,
   "metadata": {},
   "outputs": [
    {
     "name": "stdout",
     "output_type": "stream",
     "text": [
      "0.7498672483406443\n",
      "0.7498672483406443\n",
      "0.7498672483406443\n"
     ]
    }
   ],
   "source": [
    "y_ture = boston['medv']\n",
    "y_pred1 = lr_loaded_1.predict(boston)\n",
    "y_pred2 = lr_loaded_2.predict(boston)\n",
    "y_pred3 = lr_loaded_3.predict(boston)\n",
    "\n",
    "print(r2_score(y_ture, y_pred1))\n",
    "print(r2_score(y_ture, y_pred2))\n",
    "print(r2_score(y_ture, y_pred3))"
   ]
  },
  {
   "cell_type": "code",
   "execution_count": 12,
   "metadata": {},
   "outputs": [
    {
     "name": "stdout",
     "output_type": "stream",
     "text": [
      "Transformation Pipeline and Model Successfully Loaded\n"
     ]
    },
    {
     "data": {
      "text/plain": [
       "Pipeline(memory=None,\n",
       "         steps=[('dtypes',\n",
       "                 DataTypes_Auto_infer(categorical_features=[],\n",
       "                                      display_types=False, features_todrop=[],\n",
       "                                      id_columns=[], ml_usecase='regression',\n",
       "                                      numerical_features=[], target='medv',\n",
       "                                      time_features=[])),\n",
       "                ('imputer',\n",
       "                 Simple_Imputer(categorical_strategy='not_available',\n",
       "                                fill_value_categorical=None,\n",
       "                                fill_value_numerical=None,\n",
       "                                numeric_strategy='...\n",
       "                ('cluster_all', 'passthrough'),\n",
       "                ('dummy', Dummify(target='medv')),\n",
       "                ('fix_perfect', Remove_100(target='medv')),\n",
       "                ('clean_names', Clean_Colum_Names()),\n",
       "                ('feature_select', 'passthrough'), ('fix_multi', 'passthrough'),\n",
       "                ('dfs', 'passthrough'), ('pca', 'passthrough'),\n",
       "                ['trained_model',\n",
       "                 LinearRegression(copy_X=True, fit_intercept=True, n_jobs=-1,\n",
       "                                  normalize=False)]],\n",
       "         verbose=False)"
      ]
     },
     "execution_count": 12,
     "metadata": {},
     "output_type": "execute_result"
    }
   ],
   "source": [
    "## Save pycaret model to pickle\n",
    "model_final = reg.load_model('lr_saved_1')\n",
    "pickle.dump(model_final, open('model_final.pkl', 'wb'))\n",
    "\n",
    "## Load pickle model to sklearn\n",
    "model_loaded = pickle.load(open('model_final.pkl', 'rb'))\n",
    "\n",
    "model_loaded"
   ]
  }
 ],
 "metadata": {
  "kernelspec": {
   "display_name": "Python 3.8.13 ('pycaret')",
   "language": "python",
   "name": "python3"
  },
  "language_info": {
   "codemirror_mode": {
    "name": "ipython",
    "version": 3
   },
   "file_extension": ".py",
   "mimetype": "text/x-python",
   "name": "python",
   "nbconvert_exporter": "python",
   "pygments_lexer": "ipython3",
   "version": "3.8.13"
  },
  "orig_nbformat": 4,
  "vscode": {
   "interpreter": {
    "hash": "fcf8c331bdb237f88f78319b869a69dedd08237022ecf120421c2ee643329080"
   }
  }
 },
 "nbformat": 4,
 "nbformat_minor": 2
}
